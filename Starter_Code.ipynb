{
 "cells": [
  {
   "cell_type": "markdown",
   "id": "1bbfdf15",
   "metadata": {},
   "source": [
    "## Process, Analyze and Visualize Financial Time Series Data with Python and Pandas"
   ]
  },
  {
   "cell_type": "markdown",
   "id": "7fae460f",
   "metadata": {},
   "source": [
    "### Task 1: Load and inspect the Traditional Assets (Equity & Fixed Income) dataset"
   ]
  },
  {
   "cell_type": "code",
   "execution_count": null,
   "id": "654b72e1",
   "metadata": {},
   "outputs": [],
   "source": [
    "import pandas as pd\n",
    "import matplotlib.pyplot as plt"
   ]
  },
  {
   "cell_type": "code",
   "execution_count": null,
   "id": "6b5442c7",
   "metadata": {},
   "outputs": [],
   "source": [
    "trad = pd.read_csv(\"equity_fixedincome.csv\", index_col = \"Date\", parse_dates = [\"Date\"])\n",
    "trad"
   ]
  },
  {
   "cell_type": "markdown",
   "id": "c3da67d7",
   "metadata": {},
   "source": [
    "#### Column Information"
   ]
  },
  {
   "cell_type": "markdown",
   "id": "c0478592",
   "metadata": {},
   "source": [
    "- Date: Trading Days on the New York Stock Exchange (NYSE) from 2018 to 2022 (Timezone: \"US/Eastern\").\n",
    "- USEquity: End-of-Day (EOD) Prices for a (fictional) Exchange Traded Fund (ETF) with US Stocks (e.g. Apple Inc.).\n",
    "- Europe: EOD Prices for a (fictional) ETF with European Stocks (e.g. BMW). \n",
    "- EmergMarkets: EOD Prices for a (fictional) ETF with Emerging Markets Stocks (e.g. Indian Stocks).\n",
    "- GovBonds: EOD Prices for a (fictional) ETF with Global Government Bonds (e.g. US Government Bonds).\n",
    "- Corp Bonds: EOD Prices for a (fictional) ETF with Global Corporate Bonds (e.g. Boeing Inc.) "
   ]
  },
  {
   "cell_type": "code",
   "execution_count": null,
   "id": "ac444348",
   "metadata": {},
   "outputs": [],
   "source": []
  }
 ],
 "metadata": {
  "kernelspec": {
   "display_name": "Python 3 (ipykernel)",
   "language": "python",
   "name": "python3"
  },
  "language_info": {
   "codemirror_mode": {
    "name": "ipython",
    "version": 3
   },
   "file_extension": ".py",
   "mimetype": "text/x-python",
   "name": "python",
   "nbconvert_exporter": "python",
   "pygments_lexer": "ipython3",
   "version": "3.8.10"
  }
 },
 "nbformat": 4,
 "nbformat_minor": 5
}
